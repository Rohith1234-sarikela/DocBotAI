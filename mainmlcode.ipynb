{
  "cells": [
    {
      "cell_type": "code",
      "execution_count": 8,
      "metadata": {
        "id": "0uChdZchjAMd"
      },
      "outputs": [],
      "source": [
        "import pandas as pd\n",
        "import numpy as np"
      ]
    },
    {
      "cell_type": "code",
      "execution_count": 9,
      "metadata": {
        "id": "5WSDCwzMjU0D"
      },
      "outputs": [],
      "source": [
        "traindataset=pd.read_csv(r\"C:\\Users\\91954\\Desktop\\Medical recommandation system\\datasets\\Training.csv\")"
      ]
    },
    {
      "cell_type": "code",
      "execution_count": 10,
      "metadata": {
        "colab": {
          "base_uri": "https://localhost:8080/",
          "height": 342
        },
        "id": "5bYAnAYijcg2",
        "outputId": "cee25d9e-9a30-4773-9c65-0f5b3bcc3c13"
      },
      "outputs": [
        {
          "data": {
            "text/html": [
              "<div>\n",
              "<style scoped>\n",
              "    .dataframe tbody tr th:only-of-type {\n",
              "        vertical-align: middle;\n",
              "    }\n",
              "\n",
              "    .dataframe tbody tr th {\n",
              "        vertical-align: top;\n",
              "    }\n",
              "\n",
              "    .dataframe thead th {\n",
              "        text-align: right;\n",
              "    }\n",
              "</style>\n",
              "<table border=\"1\" class=\"dataframe\">\n",
              "  <thead>\n",
              "    <tr style=\"text-align: right;\">\n",
              "      <th></th>\n",
              "      <th>itching</th>\n",
              "      <th>skin_rash</th>\n",
              "      <th>nodal_skin_eruptions</th>\n",
              "      <th>continuous_sneezing</th>\n",
              "      <th>shivering</th>\n",
              "      <th>chills</th>\n",
              "      <th>joint_pain</th>\n",
              "      <th>stomach_pain</th>\n",
              "      <th>acidity</th>\n",
              "      <th>ulcers_on_tongue</th>\n",
              "      <th>...</th>\n",
              "      <th>blackheads</th>\n",
              "      <th>scurring</th>\n",
              "      <th>skin_peeling</th>\n",
              "      <th>silver_like_dusting</th>\n",
              "      <th>small_dents_in_nails</th>\n",
              "      <th>inflammatory_nails</th>\n",
              "      <th>blister</th>\n",
              "      <th>red_sore_around_nose</th>\n",
              "      <th>yellow_crust_ooze</th>\n",
              "      <th>prognosis</th>\n",
              "    </tr>\n",
              "  </thead>\n",
              "  <tbody>\n",
              "    <tr>\n",
              "      <th>0</th>\n",
              "      <td>1</td>\n",
              "      <td>1</td>\n",
              "      <td>1</td>\n",
              "      <td>0</td>\n",
              "      <td>0</td>\n",
              "      <td>0</td>\n",
              "      <td>0</td>\n",
              "      <td>0</td>\n",
              "      <td>0</td>\n",
              "      <td>0</td>\n",
              "      <td>...</td>\n",
              "      <td>0</td>\n",
              "      <td>0</td>\n",
              "      <td>0</td>\n",
              "      <td>0</td>\n",
              "      <td>0</td>\n",
              "      <td>0</td>\n",
              "      <td>0</td>\n",
              "      <td>0</td>\n",
              "      <td>0</td>\n",
              "      <td>Fungal infection</td>\n",
              "    </tr>\n",
              "    <tr>\n",
              "      <th>1</th>\n",
              "      <td>0</td>\n",
              "      <td>1</td>\n",
              "      <td>1</td>\n",
              "      <td>0</td>\n",
              "      <td>0</td>\n",
              "      <td>0</td>\n",
              "      <td>0</td>\n",
              "      <td>0</td>\n",
              "      <td>0</td>\n",
              "      <td>0</td>\n",
              "      <td>...</td>\n",
              "      <td>0</td>\n",
              "      <td>0</td>\n",
              "      <td>0</td>\n",
              "      <td>0</td>\n",
              "      <td>0</td>\n",
              "      <td>0</td>\n",
              "      <td>0</td>\n",
              "      <td>0</td>\n",
              "      <td>0</td>\n",
              "      <td>Fungal infection</td>\n",
              "    </tr>\n",
              "    <tr>\n",
              "      <th>2</th>\n",
              "      <td>1</td>\n",
              "      <td>0</td>\n",
              "      <td>1</td>\n",
              "      <td>0</td>\n",
              "      <td>0</td>\n",
              "      <td>0</td>\n",
              "      <td>0</td>\n",
              "      <td>0</td>\n",
              "      <td>0</td>\n",
              "      <td>0</td>\n",
              "      <td>...</td>\n",
              "      <td>0</td>\n",
              "      <td>0</td>\n",
              "      <td>0</td>\n",
              "      <td>0</td>\n",
              "      <td>0</td>\n",
              "      <td>0</td>\n",
              "      <td>0</td>\n",
              "      <td>0</td>\n",
              "      <td>0</td>\n",
              "      <td>Fungal infection</td>\n",
              "    </tr>\n",
              "    <tr>\n",
              "      <th>3</th>\n",
              "      <td>1</td>\n",
              "      <td>1</td>\n",
              "      <td>0</td>\n",
              "      <td>0</td>\n",
              "      <td>0</td>\n",
              "      <td>0</td>\n",
              "      <td>0</td>\n",
              "      <td>0</td>\n",
              "      <td>0</td>\n",
              "      <td>0</td>\n",
              "      <td>...</td>\n",
              "      <td>0</td>\n",
              "      <td>0</td>\n",
              "      <td>0</td>\n",
              "      <td>0</td>\n",
              "      <td>0</td>\n",
              "      <td>0</td>\n",
              "      <td>0</td>\n",
              "      <td>0</td>\n",
              "      <td>0</td>\n",
              "      <td>Fungal infection</td>\n",
              "    </tr>\n",
              "    <tr>\n",
              "      <th>4</th>\n",
              "      <td>1</td>\n",
              "      <td>1</td>\n",
              "      <td>1</td>\n",
              "      <td>0</td>\n",
              "      <td>0</td>\n",
              "      <td>0</td>\n",
              "      <td>0</td>\n",
              "      <td>0</td>\n",
              "      <td>0</td>\n",
              "      <td>0</td>\n",
              "      <td>...</td>\n",
              "      <td>0</td>\n",
              "      <td>0</td>\n",
              "      <td>0</td>\n",
              "      <td>0</td>\n",
              "      <td>0</td>\n",
              "      <td>0</td>\n",
              "      <td>0</td>\n",
              "      <td>0</td>\n",
              "      <td>0</td>\n",
              "      <td>Fungal infection</td>\n",
              "    </tr>\n",
              "  </tbody>\n",
              "</table>\n",
              "<p>5 rows × 133 columns</p>\n",
              "</div>"
            ],
            "text/plain": [
              "   itching  skin_rash  nodal_skin_eruptions  continuous_sneezing  shivering  \\\n",
              "0        1          1                     1                    0          0   \n",
              "1        0          1                     1                    0          0   \n",
              "2        1          0                     1                    0          0   \n",
              "3        1          1                     0                    0          0   \n",
              "4        1          1                     1                    0          0   \n",
              "\n",
              "   chills  joint_pain  stomach_pain  acidity  ulcers_on_tongue  ...  \\\n",
              "0       0           0             0        0                 0  ...   \n",
              "1       0           0             0        0                 0  ...   \n",
              "2       0           0             0        0                 0  ...   \n",
              "3       0           0             0        0                 0  ...   \n",
              "4       0           0             0        0                 0  ...   \n",
              "\n",
              "   blackheads  scurring  skin_peeling  silver_like_dusting  \\\n",
              "0           0         0             0                    0   \n",
              "1           0         0             0                    0   \n",
              "2           0         0             0                    0   \n",
              "3           0         0             0                    0   \n",
              "4           0         0             0                    0   \n",
              "\n",
              "   small_dents_in_nails  inflammatory_nails  blister  red_sore_around_nose  \\\n",
              "0                     0                   0        0                     0   \n",
              "1                     0                   0        0                     0   \n",
              "2                     0                   0        0                     0   \n",
              "3                     0                   0        0                     0   \n",
              "4                     0                   0        0                     0   \n",
              "\n",
              "   yellow_crust_ooze         prognosis  \n",
              "0                  0  Fungal infection  \n",
              "1                  0  Fungal infection  \n",
              "2                  0  Fungal infection  \n",
              "3                  0  Fungal infection  \n",
              "4                  0  Fungal infection  \n",
              "\n",
              "[5 rows x 133 columns]"
            ]
          },
          "execution_count": 10,
          "metadata": {},
          "output_type": "execute_result"
        }
      ],
      "source": [
        "traindataset.head()"
      ]
    },
    {
      "cell_type": "code",
      "execution_count": 11,
      "metadata": {
        "colab": {
          "base_uri": "https://localhost:8080/"
        },
        "id": "aT4uB9FxjkUy",
        "outputId": "907c9f19-3cb3-474f-c70f-a6c5ddd8d30e"
      },
      "outputs": [
        {
          "data": {
            "text/plain": [
              "(4920, 133)"
            ]
          },
          "execution_count": 11,
          "metadata": {},
          "output_type": "execute_result"
        }
      ],
      "source": [
        "traindataset.shape"
      ]
    },
    {
      "cell_type": "code",
      "execution_count": 12,
      "metadata": {
        "colab": {
          "base_uri": "https://localhost:8080/",
          "height": 458
        },
        "id": "XtG-oTaKmB_z",
        "outputId": "f8544300-d669-4cdb-e820-1f1c4a7a6722"
      },
      "outputs": [
        {
          "data": {
            "text/plain": [
              "itching                  int64\n",
              "skin_rash                int64\n",
              "nodal_skin_eruptions     int64\n",
              "continuous_sneezing      int64\n",
              "shivering                int64\n",
              "                         ...  \n",
              "inflammatory_nails       int64\n",
              "blister                  int64\n",
              "red_sore_around_nose     int64\n",
              "yellow_crust_ooze        int64\n",
              "prognosis               object\n",
              "Length: 133, dtype: object"
            ]
          },
          "execution_count": 12,
          "metadata": {},
          "output_type": "execute_result"
        }
      ],
      "source": [
        "traindataset.dtypes"
      ]
    },
    {
      "cell_type": "code",
      "execution_count": 13,
      "metadata": {
        "colab": {
          "base_uri": "https://localhost:8080/"
        },
        "id": "-IWOUyQ2j1So",
        "outputId": "14184b5c-d84c-48cf-b56b-65652b714efe"
      },
      "outputs": [
        {
          "data": {
            "text/plain": [
              "Index(['itching', 'skin_rash', 'nodal_skin_eruptions', 'continuous_sneezing',\n",
              "       'shivering', 'chills', 'joint_pain', 'stomach_pain', 'acidity',\n",
              "       'ulcers_on_tongue',\n",
              "       ...\n",
              "       'blackheads', 'scurring', 'skin_peeling', 'silver_like_dusting',\n",
              "       'small_dents_in_nails', 'inflammatory_nails', 'blister',\n",
              "       'red_sore_around_nose', 'yellow_crust_ooze', 'prognosis'],\n",
              "      dtype='object', length=133)"
            ]
          },
          "execution_count": 13,
          "metadata": {},
          "output_type": "execute_result"
        }
      ],
      "source": [
        "traindataset.columns.unique()"
      ]
    },
    {
      "cell_type": "code",
      "execution_count": 14,
      "metadata": {
        "id": "2lCn2MVfk-JL"
      },
      "outputs": [],
      "source": [
        "x=traindataset.iloc[:,:-1]\n",
        "y=traindataset[\"prognosis\"]"
      ]
    },
    {
      "cell_type": "code",
      "execution_count": 18,
      "metadata": {},
      "outputs": [
        {
          "name": "stdout",
          "output_type": "stream",
          "text": [
            "Collecting scikit-learn\n",
            "  Using cached scikit_learn-1.6.1-cp312-cp312-win_amd64.whl.metadata (15 kB)\n",
            "Requirement already satisfied: numpy>=1.19.5 in c:\\users\\91954\\desktop\\medical recommandation system\\venv\\lib\\site-packages (from scikit-learn) (2.2.5)\n",
            "Collecting scipy>=1.6.0 (from scikit-learn)\n",
            "  Downloading scipy-1.15.2-cp312-cp312-win_amd64.whl.metadata (60 kB)\n",
            "Collecting joblib>=1.2.0 (from scikit-learn)\n",
            "  Using cached joblib-1.4.2-py3-none-any.whl.metadata (5.4 kB)\n",
            "Collecting threadpoolctl>=3.1.0 (from scikit-learn)\n",
            "  Downloading threadpoolctl-3.6.0-py3-none-any.whl.metadata (13 kB)\n",
            "Downloading scikit_learn-1.6.1-cp312-cp312-win_amd64.whl (11.1 MB)\n",
            "   ---------------------------------------- 0.0/11.1 MB ? eta -:--:--\n",
            "   -------- ------------------------------- 2.4/11.1 MB 12.2 MB/s eta 0:00:01\n",
            "   ----------------- ---------------------- 5.0/11.1 MB 12.6 MB/s eta 0:00:01\n",
            "   -------------------- ------------------- 5.8/11.1 MB 10.1 MB/s eta 0:00:01\n",
            "   ----------------------- ---------------- 6.6/11.1 MB 7.7 MB/s eta 0:00:01\n",
            "   ------------------------- -------------- 7.1/11.1 MB 6.8 MB/s eta 0:00:01\n",
            "   ----------------------------- ---------- 8.1/11.1 MB 6.5 MB/s eta 0:00:01\n",
            "   -------------------------------- ------- 8.9/11.1 MB 6.1 MB/s eta 0:00:01\n",
            "   ----------------------------------- ---- 10.0/11.1 MB 5.8 MB/s eta 0:00:01\n",
            "   ---------------------------------------  11.0/11.1 MB 5.7 MB/s eta 0:00:01\n",
            "   ---------------------------------------- 11.1/11.1 MB 5.5 MB/s eta 0:00:00\n",
            "Using cached joblib-1.4.2-py3-none-any.whl (301 kB)\n",
            "Downloading scipy-1.15.2-cp312-cp312-win_amd64.whl (40.9 MB)\n",
            "   ---------------------------------------- 0.0/40.9 MB ? eta -:--:--\n",
            "   - -------------------------------------- 1.6/40.9 MB 7.6 MB/s eta 0:00:06\n",
            "   --- ------------------------------------ 3.1/40.9 MB 7.4 MB/s eta 0:00:06\n",
            "   ---- ----------------------------------- 4.2/40.9 MB 7.0 MB/s eta 0:00:06\n",
            "   ----- ---------------------------------- 5.2/40.9 MB 6.2 MB/s eta 0:00:06\n",
            "   ------ --------------------------------- 6.3/40.9 MB 5.8 MB/s eta 0:00:06\n",
            "   ------- -------------------------------- 7.3/40.9 MB 5.7 MB/s eta 0:00:06\n",
            "   ------- -------------------------------- 8.1/40.9 MB 5.4 MB/s eta 0:00:07\n",
            "   -------- ------------------------------- 9.2/40.9 MB 5.4 MB/s eta 0:00:06\n",
            "   ---------- ----------------------------- 10.5/40.9 MB 5.4 MB/s eta 0:00:06\n",
            "   ----------- ---------------------------- 11.5/40.9 MB 5.3 MB/s eta 0:00:06\n",
            "   ------------ --------------------------- 12.8/40.9 MB 5.4 MB/s eta 0:00:06\n",
            "   ------------- -------------------------- 14.2/40.9 MB 5.5 MB/s eta 0:00:05\n",
            "   --------------- ------------------------ 15.5/40.9 MB 5.5 MB/s eta 0:00:05\n",
            "   --------------- ------------------------ 16.0/40.9 MB 5.3 MB/s eta 0:00:05\n",
            "   ---------------- ----------------------- 17.0/40.9 MB 5.3 MB/s eta 0:00:05\n",
            "   ----------------- ---------------------- 18.1/40.9 MB 5.3 MB/s eta 0:00:05\n",
            "   ------------------ --------------------- 19.1/40.9 MB 5.3 MB/s eta 0:00:05\n",
            "   ------------------- -------------------- 19.9/40.9 MB 5.2 MB/s eta 0:00:05\n",
            "   -------------------- ------------------- 20.7/40.9 MB 5.1 MB/s eta 0:00:04\n",
            "   --------------------- ------------------ 22.0/40.9 MB 5.2 MB/s eta 0:00:04\n",
            "   ----------------------- ---------------- 23.6/40.9 MB 5.3 MB/s eta 0:00:04\n",
            "   ------------------------ --------------- 24.9/40.9 MB 5.3 MB/s eta 0:00:04\n",
            "   ------------------------- -------------- 26.2/40.9 MB 5.3 MB/s eta 0:00:03\n",
            "   -------------------------- ------------- 27.0/40.9 MB 5.3 MB/s eta 0:00:03\n",
            "   --------------------------- ------------ 27.8/40.9 MB 5.2 MB/s eta 0:00:03\n",
            "   ---------------------------- ----------- 28.8/40.9 MB 5.2 MB/s eta 0:00:03\n",
            "   ---------------------------- ----------- 29.4/40.9 MB 5.1 MB/s eta 0:00:03\n",
            "   ----------------------------- ---------- 30.4/40.9 MB 5.1 MB/s eta 0:00:03\n",
            "   ------------------------------ --------- 31.7/40.9 MB 5.1 MB/s eta 0:00:02\n",
            "   -------------------------------- ------- 33.0/40.9 MB 5.1 MB/s eta 0:00:02\n",
            "   --------------------------------- ------ 34.6/40.9 MB 5.2 MB/s eta 0:00:02\n",
            "   ---------------------------------- ----- 35.4/40.9 MB 5.2 MB/s eta 0:00:02\n",
            "   ----------------------------------- ---- 36.4/40.9 MB 5.2 MB/s eta 0:00:01\n",
            "   ------------------------------------ --- 37.5/40.9 MB 5.2 MB/s eta 0:00:01\n",
            "   ------------------------------------- -- 38.3/40.9 MB 5.1 MB/s eta 0:00:01\n",
            "   -------------------------------------- - 39.6/40.9 MB 5.1 MB/s eta 0:00:01\n",
            "   ---------------------------------------  40.9/40.9 MB 5.1 MB/s eta 0:00:01\n",
            "   ---------------------------------------- 40.9/40.9 MB 5.0 MB/s eta 0:00:00\n",
            "Downloading threadpoolctl-3.6.0-py3-none-any.whl (18 kB)\n",
            "Installing collected packages: threadpoolctl, scipy, joblib, scikit-learn\n",
            "Successfully installed joblib-1.4.2 scikit-learn-1.6.1 scipy-1.15.2 threadpoolctl-3.6.0\n",
            "Note: you may need to restart the kernel to use updated packages.\n"
          ]
        },
        {
          "name": "stderr",
          "output_type": "stream",
          "text": [
            "\n",
            "[notice] A new release of pip is available: 24.2 -> 25.0.1\n",
            "[notice] To update, run: python.exe -m pip install --upgrade pip\n"
          ]
        }
      ],
      "source": [
        "pip install scikit-learn\n"
      ]
    },
    {
      "cell_type": "code",
      "execution_count": 19,
      "metadata": {
        "id": "mjjmAOK9lE76"
      },
      "outputs": [],
      "source": [
        "from sklearn.preprocessing import LabelEncoder"
      ]
    },
    {
      "cell_type": "code",
      "execution_count": 20,
      "metadata": {
        "id": "1E5LzGhame8b"
      },
      "outputs": [],
      "source": [
        "encoder=LabelEncoder()\n",
        "encoder=encoder.fit(y)\n",
        "y=encoder.transform(y)"
      ]
    },
    {
      "cell_type": "code",
      "execution_count": 21,
      "metadata": {
        "colab": {
          "base_uri": "https://localhost:8080/"
        },
        "id": "bkSjJzf4m429",
        "outputId": "486ff1b4-8f1e-4a59-97fc-a1b275e94afa"
      },
      "outputs": [
        {
          "name": "stdout",
          "output_type": "stream",
          "text": [
            "[15 15 15 ... 38 35 27]\n"
          ]
        }
      ],
      "source": [
        "print(y)"
      ]
    },
    {
      "cell_type": "code",
      "execution_count": null,
      "metadata": {
        "id": "-NvHB1JmnIE7"
      },
      "outputs": [],
      "source": []
    },
    {
      "cell_type": "code",
      "execution_count": 22,
      "metadata": {
        "id": "bGJIlcROkxao"
      },
      "outputs": [],
      "source": [
        "from sklearn.model_selection import train_test_split\n"
      ]
    },
    {
      "cell_type": "code",
      "execution_count": 23,
      "metadata": {
        "id": "FYL0RFFelWCJ"
      },
      "outputs": [],
      "source": [
        "X_train,X_test,Y_train,Y_test=train_test_split(x,y,test_size=0.3,random_state=0)\n"
      ]
    },
    {
      "cell_type": "code",
      "execution_count": 24,
      "metadata": {
        "id": "rYCZhodMmgPs"
      },
      "outputs": [],
      "source": [
        "from sklearn.ensemble import RandomForestClassifier,GradientBoostingClassifier\n",
        "from sklearn.svm import SVC\n",
        "from sklearn.neighbors import KNeighborsClassifier\n",
        "from sklearn.tree import DecisionTreeClassifier\n",
        "from sklearn.naive_bayes import MultinomialNB\n",
        "\n",
        "from sklearn.metrics import accuracy_score,confusion_matrix,classification_report"
      ]
    },
    {
      "cell_type": "code",
      "execution_count": 25,
      "metadata": {
        "colab": {
          "base_uri": "https://localhost:8080/"
        },
        "id": "kimyf36Xn6vY",
        "outputId": "c87ed124-78e9-4d57-b3d5-bccb23c65b70"
      },
      "outputs": [
        {
          "name": "stdout",
          "output_type": "stream",
          "text": [
            "Accuracy for SVC : 1.0\n",
            "confusion matrix forSVC:[[32  0  0 ...  0  0  0]\n",
            " [ 0 31  0 ...  0  0  0]\n",
            " [ 0  0 38 ...  0  0  0]\n",
            " ...\n",
            " [ 0  0  0 ... 36  0  0]\n",
            " [ 0  0  0 ...  0 38  0]\n",
            " [ 0  0  0 ...  0  0 38]]\n",
            "classification report forSVC:              precision    recall  f1-score   support\n",
            "\n",
            "           0       1.00      1.00      1.00        32\n",
            "           1       1.00      1.00      1.00        31\n",
            "           2       1.00      1.00      1.00        38\n",
            "           3       1.00      1.00      1.00        34\n",
            "           4       1.00      1.00      1.00        33\n",
            "           5       1.00      1.00      1.00        36\n",
            "           6       1.00      1.00      1.00        39\n",
            "           7       1.00      1.00      1.00        41\n",
            "           8       1.00      1.00      1.00        33\n",
            "           9       1.00      1.00      1.00        35\n",
            "          10       1.00      1.00      1.00        42\n",
            "          11       1.00      1.00      1.00        27\n",
            "          12       1.00      1.00      1.00        33\n",
            "          13       1.00      1.00      1.00        40\n",
            "          14       1.00      1.00      1.00        40\n",
            "          15       1.00      1.00      1.00        31\n",
            "          16       1.00      1.00      1.00        42\n",
            "          17       1.00      1.00      1.00        36\n",
            "          18       1.00      1.00      1.00        49\n",
            "          19       1.00      1.00      1.00        31\n",
            "          20       1.00      1.00      1.00        32\n",
            "          21       1.00      1.00      1.00        41\n",
            "          22       1.00      1.00      1.00        37\n",
            "          23       1.00      1.00      1.00        35\n",
            "          24       1.00      1.00      1.00        34\n",
            "          25       1.00      1.00      1.00        21\n",
            "          26       1.00      1.00      1.00        33\n",
            "          27       1.00      1.00      1.00        39\n",
            "          28       1.00      1.00      1.00        36\n",
            "          29       1.00      1.00      1.00        31\n",
            "          30       1.00      1.00      1.00        42\n",
            "          31       1.00      1.00      1.00        37\n",
            "          32       1.00      1.00      1.00        41\n",
            "          33       1.00      1.00      1.00        38\n",
            "          34       1.00      1.00      1.00        34\n",
            "          35       1.00      1.00      1.00        31\n",
            "          36       1.00      1.00      1.00        37\n",
            "          37       1.00      1.00      1.00        42\n",
            "          38       1.00      1.00      1.00        36\n",
            "          39       1.00      1.00      1.00        38\n",
            "          40       1.00      1.00      1.00        38\n",
            "\n",
            "    accuracy                           1.00      1476\n",
            "   macro avg       1.00      1.00      1.00      1476\n",
            "weighted avg       1.00      1.00      1.00      1476\n",
            "\n",
            "Accuracy for RandomForestClassifier : 1.0\n",
            "confusion matrix forRandomForestClassifier:[[32  0  0 ...  0  0  0]\n",
            " [ 0 31  0 ...  0  0  0]\n",
            " [ 0  0 38 ...  0  0  0]\n",
            " ...\n",
            " [ 0  0  0 ... 36  0  0]\n",
            " [ 0  0  0 ...  0 38  0]\n",
            " [ 0  0  0 ...  0  0 38]]\n",
            "classification report forRandomForestClassifier:              precision    recall  f1-score   support\n",
            "\n",
            "           0       1.00      1.00      1.00        32\n",
            "           1       1.00      1.00      1.00        31\n",
            "           2       1.00      1.00      1.00        38\n",
            "           3       1.00      1.00      1.00        34\n",
            "           4       1.00      1.00      1.00        33\n",
            "           5       1.00      1.00      1.00        36\n",
            "           6       1.00      1.00      1.00        39\n",
            "           7       1.00      1.00      1.00        41\n",
            "           8       1.00      1.00      1.00        33\n",
            "           9       1.00      1.00      1.00        35\n",
            "          10       1.00      1.00      1.00        42\n",
            "          11       1.00      1.00      1.00        27\n",
            "          12       1.00      1.00      1.00        33\n",
            "          13       1.00      1.00      1.00        40\n",
            "          14       1.00      1.00      1.00        40\n",
            "          15       1.00      1.00      1.00        31\n",
            "          16       1.00      1.00      1.00        42\n",
            "          17       1.00      1.00      1.00        36\n",
            "          18       1.00      1.00      1.00        49\n",
            "          19       1.00      1.00      1.00        31\n",
            "          20       1.00      1.00      1.00        32\n",
            "          21       1.00      1.00      1.00        41\n",
            "          22       1.00      1.00      1.00        37\n",
            "          23       1.00      1.00      1.00        35\n",
            "          24       1.00      1.00      1.00        34\n",
            "          25       1.00      1.00      1.00        21\n",
            "          26       1.00      1.00      1.00        33\n",
            "          27       1.00      1.00      1.00        39\n",
            "          28       1.00      1.00      1.00        36\n",
            "          29       1.00      1.00      1.00        31\n",
            "          30       1.00      1.00      1.00        42\n",
            "          31       1.00      1.00      1.00        37\n",
            "          32       1.00      1.00      1.00        41\n",
            "          33       1.00      1.00      1.00        38\n",
            "          34       1.00      1.00      1.00        34\n",
            "          35       1.00      1.00      1.00        31\n",
            "          36       1.00      1.00      1.00        37\n",
            "          37       1.00      1.00      1.00        42\n",
            "          38       1.00      1.00      1.00        36\n",
            "          39       1.00      1.00      1.00        38\n",
            "          40       1.00      1.00      1.00        38\n",
            "\n",
            "    accuracy                           1.00      1476\n",
            "   macro avg       1.00      1.00      1.00      1476\n",
            "weighted avg       1.00      1.00      1.00      1476\n",
            "\n",
            "Accuracy for GradientBoostingClassifier : 1.0\n",
            "confusion matrix forGradientBoostingClassifier:[[32  0  0 ...  0  0  0]\n",
            " [ 0 31  0 ...  0  0  0]\n",
            " [ 0  0 38 ...  0  0  0]\n",
            " ...\n",
            " [ 0  0  0 ... 36  0  0]\n",
            " [ 0  0  0 ...  0 38  0]\n",
            " [ 0  0  0 ...  0  0 38]]\n",
            "classification report forGradientBoostingClassifier:              precision    recall  f1-score   support\n",
            "\n",
            "           0       1.00      1.00      1.00        32\n",
            "           1       1.00      1.00      1.00        31\n",
            "           2       1.00      1.00      1.00        38\n",
            "           3       1.00      1.00      1.00        34\n",
            "           4       1.00      1.00      1.00        33\n",
            "           5       1.00      1.00      1.00        36\n",
            "           6       1.00      1.00      1.00        39\n",
            "           7       1.00      1.00      1.00        41\n",
            "           8       1.00      1.00      1.00        33\n",
            "           9       1.00      1.00      1.00        35\n",
            "          10       1.00      1.00      1.00        42\n",
            "          11       1.00      1.00      1.00        27\n",
            "          12       1.00      1.00      1.00        33\n",
            "          13       1.00      1.00      1.00        40\n",
            "          14       1.00      1.00      1.00        40\n",
            "          15       1.00      1.00      1.00        31\n",
            "          16       1.00      1.00      1.00        42\n",
            "          17       1.00      1.00      1.00        36\n",
            "          18       1.00      1.00      1.00        49\n",
            "          19       1.00      1.00      1.00        31\n",
            "          20       1.00      1.00      1.00        32\n",
            "          21       1.00      1.00      1.00        41\n",
            "          22       1.00      1.00      1.00        37\n",
            "          23       1.00      1.00      1.00        35\n",
            "          24       1.00      1.00      1.00        34\n",
            "          25       1.00      1.00      1.00        21\n",
            "          26       1.00      1.00      1.00        33\n",
            "          27       1.00      1.00      1.00        39\n",
            "          28       1.00      1.00      1.00        36\n",
            "          29       1.00      1.00      1.00        31\n",
            "          30       1.00      1.00      1.00        42\n",
            "          31       1.00      1.00      1.00        37\n",
            "          32       1.00      1.00      1.00        41\n",
            "          33       1.00      1.00      1.00        38\n",
            "          34       1.00      1.00      1.00        34\n",
            "          35       1.00      1.00      1.00        31\n",
            "          36       1.00      1.00      1.00        37\n",
            "          37       1.00      1.00      1.00        42\n",
            "          38       1.00      1.00      1.00        36\n",
            "          39       1.00      1.00      1.00        38\n",
            "          40       1.00      1.00      1.00        38\n",
            "\n",
            "    accuracy                           1.00      1476\n",
            "   macro avg       1.00      1.00      1.00      1476\n",
            "weighted avg       1.00      1.00      1.00      1476\n",
            "\n",
            "Accuracy for KNeighborsClassifier : 1.0\n",
            "confusion matrix forKNeighborsClassifier:[[32  0  0 ...  0  0  0]\n",
            " [ 0 31  0 ...  0  0  0]\n",
            " [ 0  0 38 ...  0  0  0]\n",
            " ...\n",
            " [ 0  0  0 ... 36  0  0]\n",
            " [ 0  0  0 ...  0 38  0]\n",
            " [ 0  0  0 ...  0  0 38]]\n",
            "classification report forKNeighborsClassifier:              precision    recall  f1-score   support\n",
            "\n",
            "           0       1.00      1.00      1.00        32\n",
            "           1       1.00      1.00      1.00        31\n",
            "           2       1.00      1.00      1.00        38\n",
            "           3       1.00      1.00      1.00        34\n",
            "           4       1.00      1.00      1.00        33\n",
            "           5       1.00      1.00      1.00        36\n",
            "           6       1.00      1.00      1.00        39\n",
            "           7       1.00      1.00      1.00        41\n",
            "           8       1.00      1.00      1.00        33\n",
            "           9       1.00      1.00      1.00        35\n",
            "          10       1.00      1.00      1.00        42\n",
            "          11       1.00      1.00      1.00        27\n",
            "          12       1.00      1.00      1.00        33\n",
            "          13       1.00      1.00      1.00        40\n",
            "          14       1.00      1.00      1.00        40\n",
            "          15       1.00      1.00      1.00        31\n",
            "          16       1.00      1.00      1.00        42\n",
            "          17       1.00      1.00      1.00        36\n",
            "          18       1.00      1.00      1.00        49\n",
            "          19       1.00      1.00      1.00        31\n",
            "          20       1.00      1.00      1.00        32\n",
            "          21       1.00      1.00      1.00        41\n",
            "          22       1.00      1.00      1.00        37\n",
            "          23       1.00      1.00      1.00        35\n",
            "          24       1.00      1.00      1.00        34\n",
            "          25       1.00      1.00      1.00        21\n",
            "          26       1.00      1.00      1.00        33\n",
            "          27       1.00      1.00      1.00        39\n",
            "          28       1.00      1.00      1.00        36\n",
            "          29       1.00      1.00      1.00        31\n",
            "          30       1.00      1.00      1.00        42\n",
            "          31       1.00      1.00      1.00        37\n",
            "          32       1.00      1.00      1.00        41\n",
            "          33       1.00      1.00      1.00        38\n",
            "          34       1.00      1.00      1.00        34\n",
            "          35       1.00      1.00      1.00        31\n",
            "          36       1.00      1.00      1.00        37\n",
            "          37       1.00      1.00      1.00        42\n",
            "          38       1.00      1.00      1.00        36\n",
            "          39       1.00      1.00      1.00        38\n",
            "          40       1.00      1.00      1.00        38\n",
            "\n",
            "    accuracy                           1.00      1476\n",
            "   macro avg       1.00      1.00      1.00      1476\n",
            "weighted avg       1.00      1.00      1.00      1476\n",
            "\n",
            "Accuracy for DecisionTreeClassifier : 1.0\n",
            "confusion matrix forDecisionTreeClassifier:[[32  0  0 ...  0  0  0]\n",
            " [ 0 31  0 ...  0  0  0]\n",
            " [ 0  0 38 ...  0  0  0]\n",
            " ...\n",
            " [ 0  0  0 ... 36  0  0]\n",
            " [ 0  0  0 ...  0 38  0]\n",
            " [ 0  0  0 ...  0  0 38]]\n",
            "classification report forDecisionTreeClassifier:              precision    recall  f1-score   support\n",
            "\n",
            "           0       1.00      1.00      1.00        32\n",
            "           1       1.00      1.00      1.00        31\n",
            "           2       1.00      1.00      1.00        38\n",
            "           3       1.00      1.00      1.00        34\n",
            "           4       1.00      1.00      1.00        33\n",
            "           5       1.00      1.00      1.00        36\n",
            "           6       1.00      1.00      1.00        39\n",
            "           7       1.00      1.00      1.00        41\n",
            "           8       1.00      1.00      1.00        33\n",
            "           9       1.00      1.00      1.00        35\n",
            "          10       1.00      1.00      1.00        42\n",
            "          11       1.00      1.00      1.00        27\n",
            "          12       1.00      1.00      1.00        33\n",
            "          13       1.00      1.00      1.00        40\n",
            "          14       1.00      1.00      1.00        40\n",
            "          15       1.00      1.00      1.00        31\n",
            "          16       1.00      1.00      1.00        42\n",
            "          17       1.00      1.00      1.00        36\n",
            "          18       1.00      1.00      1.00        49\n",
            "          19       1.00      1.00      1.00        31\n",
            "          20       1.00      1.00      1.00        32\n",
            "          21       1.00      1.00      1.00        41\n",
            "          22       1.00      1.00      1.00        37\n",
            "          23       1.00      1.00      1.00        35\n",
            "          24       1.00      1.00      1.00        34\n",
            "          25       1.00      1.00      1.00        21\n",
            "          26       1.00      1.00      1.00        33\n",
            "          27       1.00      1.00      1.00        39\n",
            "          28       1.00      1.00      1.00        36\n",
            "          29       1.00      1.00      1.00        31\n",
            "          30       1.00      1.00      1.00        42\n",
            "          31       1.00      1.00      1.00        37\n",
            "          32       1.00      1.00      1.00        41\n",
            "          33       1.00      1.00      1.00        38\n",
            "          34       1.00      1.00      1.00        34\n",
            "          35       1.00      1.00      1.00        31\n",
            "          36       1.00      1.00      1.00        37\n",
            "          37       1.00      1.00      1.00        42\n",
            "          38       1.00      1.00      1.00        36\n",
            "          39       1.00      1.00      1.00        38\n",
            "          40       1.00      1.00      1.00        38\n",
            "\n",
            "    accuracy                           1.00      1476\n",
            "   macro avg       1.00      1.00      1.00      1476\n",
            "weighted avg       1.00      1.00      1.00      1476\n",
            "\n",
            "Accuracy for MultinomialNB : 1.0\n",
            "confusion matrix forMultinomialNB:[[32  0  0 ...  0  0  0]\n",
            " [ 0 31  0 ...  0  0  0]\n",
            " [ 0  0 38 ...  0  0  0]\n",
            " ...\n",
            " [ 0  0  0 ... 36  0  0]\n",
            " [ 0  0  0 ...  0 38  0]\n",
            " [ 0  0  0 ...  0  0 38]]\n",
            "classification report forMultinomialNB:              precision    recall  f1-score   support\n",
            "\n",
            "           0       1.00      1.00      1.00        32\n",
            "           1       1.00      1.00      1.00        31\n",
            "           2       1.00      1.00      1.00        38\n",
            "           3       1.00      1.00      1.00        34\n",
            "           4       1.00      1.00      1.00        33\n",
            "           5       1.00      1.00      1.00        36\n",
            "           6       1.00      1.00      1.00        39\n",
            "           7       1.00      1.00      1.00        41\n",
            "           8       1.00      1.00      1.00        33\n",
            "           9       1.00      1.00      1.00        35\n",
            "          10       1.00      1.00      1.00        42\n",
            "          11       1.00      1.00      1.00        27\n",
            "          12       1.00      1.00      1.00        33\n",
            "          13       1.00      1.00      1.00        40\n",
            "          14       1.00      1.00      1.00        40\n",
            "          15       1.00      1.00      1.00        31\n",
            "          16       1.00      1.00      1.00        42\n",
            "          17       1.00      1.00      1.00        36\n",
            "          18       1.00      1.00      1.00        49\n",
            "          19       1.00      1.00      1.00        31\n",
            "          20       1.00      1.00      1.00        32\n",
            "          21       1.00      1.00      1.00        41\n",
            "          22       1.00      1.00      1.00        37\n",
            "          23       1.00      1.00      1.00        35\n",
            "          24       1.00      1.00      1.00        34\n",
            "          25       1.00      1.00      1.00        21\n",
            "          26       1.00      1.00      1.00        33\n",
            "          27       1.00      1.00      1.00        39\n",
            "          28       1.00      1.00      1.00        36\n",
            "          29       1.00      1.00      1.00        31\n",
            "          30       1.00      1.00      1.00        42\n",
            "          31       1.00      1.00      1.00        37\n",
            "          32       1.00      1.00      1.00        41\n",
            "          33       1.00      1.00      1.00        38\n",
            "          34       1.00      1.00      1.00        34\n",
            "          35       1.00      1.00      1.00        31\n",
            "          36       1.00      1.00      1.00        37\n",
            "          37       1.00      1.00      1.00        42\n",
            "          38       1.00      1.00      1.00        36\n",
            "          39       1.00      1.00      1.00        38\n",
            "          40       1.00      1.00      1.00        38\n",
            "\n",
            "    accuracy                           1.00      1476\n",
            "   macro avg       1.00      1.00      1.00      1476\n",
            "weighted avg       1.00      1.00      1.00      1476\n",
            "\n"
          ]
        }
      ],
      "source": [
        "models = {\n",
        "    \"SVC\":SVC(kernel=\"linear\"),\n",
        "    \"RandomForestClassifier\":RandomForestClassifier(n_estimators=100,random_state=42),\n",
        "    \"GradientBoostingClassifier\":GradientBoostingClassifier(n_estimators=100,random_state=42),\n",
        "    \"KNeighborsClassifier\":KNeighborsClassifier(n_neighbors=5),\n",
        "    \"DecisionTreeClassifier\":DecisionTreeClassifier(random_state=42),\n",
        "    \"MultinomialNB\":MultinomialNB()\n",
        "}\n",
        "\n",
        "for model_name,model in models.items():\n",
        "  model.fit(X_train,Y_train)\n",
        "  y_pred=model.predict(X_test)\n",
        "  accuracy=accuracy_score(Y_test,y_pred)\n",
        "  cm=confusion_matrix(Y_test,y_pred)\n",
        "  cr=classification_report(Y_test,y_pred)\n",
        "  print(f\"Accuracy for {model_name} : {accuracy}\")\n",
        "  print(f\"confusion matrix for{model_name}:{cm}\")\n",
        "  print(f\"classification report for{model_name}:{cr}\")\n",
        "\n",
        "\n"
      ]
    },
    {
      "cell_type": "code",
      "execution_count": 26,
      "metadata": {
        "colab": {
          "base_uri": "https://localhost:8080/"
        },
        "id": "gBPdctUjrn6_",
        "outputId": "11504531-c135-473f-ed69-760d7e014e8f"
      },
      "outputs": [
        {
          "name": "stdout",
          "output_type": "stream",
          "text": [
            "1.0\n"
          ]
        }
      ],
      "source": [
        "model=SVC(kernel=\"linear\")\n",
        "model.fit(X_train,Y_train)\n",
        "y_pred=model.predict(X_test)\n",
        "accuracy=accuracy_score(Y_test,y_pred)\n",
        "print(accuracy)"
      ]
    },
    {
      "cell_type": "code",
      "execution_count": 27,
      "metadata": {
        "id": "j0lXJHf1r-tR"
      },
      "outputs": [],
      "source": [
        "import pickle"
      ]
    },
    {
      "cell_type": "code",
      "execution_count": 28,
      "metadata": {
        "id": "sYo1UhWhsC4v"
      },
      "outputs": [],
      "source": [
        "with open(\"models/svc.pkl\",\"wb\") as f:\n",
        "  pickle.dump(model,f)"
      ]
    },
    {
      "cell_type": "code",
      "execution_count": 29,
      "metadata": {
        "colab": {
          "base_uri": "https://localhost:8080/"
        },
        "id": "blOIrobHs8ej",
        "outputId": "5d896022-56cd-4522-adb8-398858793e8a"
      },
      "outputs": [
        {
          "name": "stderr",
          "output_type": "stream",
          "text": [
            "c:\\Users\\91954\\Desktop\\Medical recommandation system\\venv\\Lib\\site-packages\\sklearn\\utils\\validation.py:2739: UserWarning: X does not have valid feature names, but SVC was fitted with feature names\n",
            "  warnings.warn(\n"
          ]
        }
      ],
      "source": [
        "prd=model.predict(X_test.iloc[0].values.reshape(1,-1))\n"
      ]
    },
    {
      "cell_type": "code",
      "execution_count": 30,
      "metadata": {
        "colab": {
          "base_uri": "https://localhost:8080/"
        },
        "id": "mZWMu3AauVRr",
        "outputId": "a5ffe997-c613-4d1f-fad9-49e5b48bd8ac"
      },
      "outputs": [
        {
          "data": {
            "text/plain": [
              "np.int64(18)"
            ]
          },
          "execution_count": 30,
          "metadata": {},
          "output_type": "execute_result"
        }
      ],
      "source": [
        "prd\n",
        "Y_test[0]"
      ]
    },
    {
      "cell_type": "code",
      "execution_count": 31,
      "metadata": {
        "id": "9BgU7tH4aPcp"
      },
      "outputs": [],
      "source": [
        "Symtomsdataset=pd.read_csv(r\"C:\\Users\\91954\\Desktop\\Medical recommandation system\\datasets\\symtoms_df.csv\")\n",
        "discriptiondataset=pd.read_csv(r\"C:\\Users\\91954\\Desktop\\Medical recommandation system\\datasets\\description.csv\")\n",
        "medicationdataset=pd.read_csv(r\"C:\\Users\\91954\\Desktop\\Medical recommandation system\\datasets\\medications.csv\")\n",
        "dietsdataset=pd.read_csv(r\"C:\\Users\\91954\\Desktop\\Medical recommandation system\\datasets\\diets.csv\")\n",
        "precautiondataset=pd.read_csv(r\"C:\\Users\\91954\\Desktop\\Medical recommandation system\\datasets\\precautions_df.csv\")\n",
        "Workoutdataset=pd.read_csv(r\"C:\\Users\\91954\\Desktop\\Medical recommandation system\\datasets\\workout_df.csv\")"
      ]
    },
    {
      "cell_type": "code",
      "execution_count": 32,
      "metadata": {
        "colab": {
          "base_uri": "https://localhost:8080/",
          "height": 206
        },
        "id": "3iyic4HzbA4Q",
        "outputId": "b51e3d6a-a384-4b53-dcfe-d0de2f310303"
      },
      "outputs": [
        {
          "data": {
            "text/html": [
              "<div>\n",
              "<style scoped>\n",
              "    .dataframe tbody tr th:only-of-type {\n",
              "        vertical-align: middle;\n",
              "    }\n",
              "\n",
              "    .dataframe tbody tr th {\n",
              "        vertical-align: top;\n",
              "    }\n",
              "\n",
              "    .dataframe thead th {\n",
              "        text-align: right;\n",
              "    }\n",
              "</style>\n",
              "<table border=\"1\" class=\"dataframe\">\n",
              "  <thead>\n",
              "    <tr style=\"text-align: right;\">\n",
              "      <th></th>\n",
              "      <th>Disease</th>\n",
              "      <th>Diet</th>\n",
              "    </tr>\n",
              "  </thead>\n",
              "  <tbody>\n",
              "    <tr>\n",
              "      <th>0</th>\n",
              "      <td>Fungal infection</td>\n",
              "      <td>['Antifungal Diet', 'Probiotics', 'Garlic', 'C...</td>\n",
              "    </tr>\n",
              "    <tr>\n",
              "      <th>1</th>\n",
              "      <td>Allergy</td>\n",
              "      <td>['Elimination Diet', 'Omega-3-rich foods', 'Vi...</td>\n",
              "    </tr>\n",
              "    <tr>\n",
              "      <th>2</th>\n",
              "      <td>GERD</td>\n",
              "      <td>['Low-Acid Diet', 'Fiber-rich foods', 'Ginger'...</td>\n",
              "    </tr>\n",
              "    <tr>\n",
              "      <th>3</th>\n",
              "      <td>Chronic cholestasis</td>\n",
              "      <td>['Low-Fat Diet', 'High-Fiber Diet', 'Lean prot...</td>\n",
              "    </tr>\n",
              "    <tr>\n",
              "      <th>4</th>\n",
              "      <td>Drug Reaction</td>\n",
              "      <td>['Antihistamine Diet', 'Omega-3-rich foods', '...</td>\n",
              "    </tr>\n",
              "  </tbody>\n",
              "</table>\n",
              "</div>"
            ],
            "text/plain": [
              "               Disease                                               Diet\n",
              "0     Fungal infection  ['Antifungal Diet', 'Probiotics', 'Garlic', 'C...\n",
              "1              Allergy  ['Elimination Diet', 'Omega-3-rich foods', 'Vi...\n",
              "2                 GERD  ['Low-Acid Diet', 'Fiber-rich foods', 'Ginger'...\n",
              "3  Chronic cholestasis  ['Low-Fat Diet', 'High-Fiber Diet', 'Lean prot...\n",
              "4        Drug Reaction  ['Antihistamine Diet', 'Omega-3-rich foods', '..."
            ]
          },
          "execution_count": 32,
          "metadata": {},
          "output_type": "execute_result"
        }
      ],
      "source": [
        "dietsdataset.head()"
      ]
    },
    {
      "cell_type": "code",
      "execution_count": 33,
      "metadata": {
        "colab": {
          "base_uri": "https://localhost:8080/"
        },
        "id": "rHY3k75QbHhQ",
        "outputId": "9c7119ab-48b1-41b2-99ab-a797edea8c67"
      },
      "outputs": [
        {
          "data": {
            "text/plain": [
              "(4920, 6)"
            ]
          },
          "execution_count": 33,
          "metadata": {},
          "output_type": "execute_result"
        }
      ],
      "source": [
        "Symtomsdataset.shape"
      ]
    },
    {
      "cell_type": "code",
      "execution_count": 34,
      "metadata": {
        "colab": {
          "base_uri": "https://localhost:8080/",
          "height": 399
        },
        "id": "ibVmPzUabX1I",
        "outputId": "82d0a365-2672-4a49-9962-fd52c6b739b9"
      },
      "outputs": [
        {
          "data": {
            "text/html": [
              "<div>\n",
              "<style scoped>\n",
              "    .dataframe tbody tr th:only-of-type {\n",
              "        vertical-align: middle;\n",
              "    }\n",
              "\n",
              "    .dataframe tbody tr th {\n",
              "        vertical-align: top;\n",
              "    }\n",
              "\n",
              "    .dataframe thead th {\n",
              "        text-align: right;\n",
              "    }\n",
              "</style>\n",
              "<table border=\"1\" class=\"dataframe\">\n",
              "  <thead>\n",
              "    <tr style=\"text-align: right;\">\n",
              "      <th></th>\n",
              "      <th>Unnamed: 0</th>\n",
              "      <th>Disease</th>\n",
              "      <th>Precaution_1</th>\n",
              "      <th>Precaution_2</th>\n",
              "      <th>Precaution_3</th>\n",
              "      <th>Precaution_4</th>\n",
              "    </tr>\n",
              "  </thead>\n",
              "  <tbody>\n",
              "    <tr>\n",
              "      <th>0</th>\n",
              "      <td>0</td>\n",
              "      <td>Drug Reaction</td>\n",
              "      <td>stop irritation</td>\n",
              "      <td>consult nearest hospital</td>\n",
              "      <td>stop taking drug</td>\n",
              "      <td>follow up</td>\n",
              "    </tr>\n",
              "    <tr>\n",
              "      <th>1</th>\n",
              "      <td>1</td>\n",
              "      <td>Malaria</td>\n",
              "      <td>Consult nearest hospital</td>\n",
              "      <td>avoid oily food</td>\n",
              "      <td>avoid non veg food</td>\n",
              "      <td>keep mosquitos out</td>\n",
              "    </tr>\n",
              "    <tr>\n",
              "      <th>2</th>\n",
              "      <td>2</td>\n",
              "      <td>Allergy</td>\n",
              "      <td>apply calamine</td>\n",
              "      <td>cover area with bandage</td>\n",
              "      <td>NaN</td>\n",
              "      <td>use ice to compress itching</td>\n",
              "    </tr>\n",
              "    <tr>\n",
              "      <th>3</th>\n",
              "      <td>3</td>\n",
              "      <td>Hypothyroidism</td>\n",
              "      <td>reduce stress</td>\n",
              "      <td>exercise</td>\n",
              "      <td>eat healthy</td>\n",
              "      <td>get proper sleep</td>\n",
              "    </tr>\n",
              "    <tr>\n",
              "      <th>4</th>\n",
              "      <td>4</td>\n",
              "      <td>Psoriasis</td>\n",
              "      <td>wash hands with warm soapy water</td>\n",
              "      <td>stop bleeding using pressure</td>\n",
              "      <td>consult doctor</td>\n",
              "      <td>salt baths</td>\n",
              "    </tr>\n",
              "  </tbody>\n",
              "</table>\n",
              "</div>"
            ],
            "text/plain": [
              "   Unnamed: 0         Disease                      Precaution_1  \\\n",
              "0           0   Drug Reaction                   stop irritation   \n",
              "1           1         Malaria          Consult nearest hospital   \n",
              "2           2         Allergy                    apply calamine   \n",
              "3           3  Hypothyroidism                     reduce stress   \n",
              "4           4       Psoriasis  wash hands with warm soapy water   \n",
              "\n",
              "                   Precaution_2        Precaution_3  \\\n",
              "0      consult nearest hospital    stop taking drug   \n",
              "1               avoid oily food  avoid non veg food   \n",
              "2       cover area with bandage                 NaN   \n",
              "3                      exercise         eat healthy   \n",
              "4  stop bleeding using pressure      consult doctor   \n",
              "\n",
              "                  Precaution_4  \n",
              "0                    follow up  \n",
              "1           keep mosquitos out  \n",
              "2  use ice to compress itching  \n",
              "3             get proper sleep  \n",
              "4                   salt baths  "
            ]
          },
          "execution_count": 34,
          "metadata": {},
          "output_type": "execute_result"
        }
      ],
      "source": [
        "precautiondataset.head()"
      ]
    },
    {
      "cell_type": "code",
      "execution_count": 35,
      "metadata": {
        "colab": {
          "base_uri": "https://localhost:8080/",
          "height": 206
        },
        "id": "hnHO1jC-b1NW",
        "outputId": "dbec7dab-2bbb-4f55-9937-55049f52856b"
      },
      "outputs": [
        {
          "data": {
            "text/html": [
              "<div>\n",
              "<style scoped>\n",
              "    .dataframe tbody tr th:only-of-type {\n",
              "        vertical-align: middle;\n",
              "    }\n",
              "\n",
              "    .dataframe tbody tr th {\n",
              "        vertical-align: top;\n",
              "    }\n",
              "\n",
              "    .dataframe thead th {\n",
              "        text-align: right;\n",
              "    }\n",
              "</style>\n",
              "<table border=\"1\" class=\"dataframe\">\n",
              "  <thead>\n",
              "    <tr style=\"text-align: right;\">\n",
              "      <th></th>\n",
              "      <th>Unnamed: 0.1</th>\n",
              "      <th>Unnamed: 0</th>\n",
              "      <th>disease</th>\n",
              "      <th>workout</th>\n",
              "    </tr>\n",
              "  </thead>\n",
              "  <tbody>\n",
              "    <tr>\n",
              "      <th>0</th>\n",
              "      <td>0</td>\n",
              "      <td>0</td>\n",
              "      <td>Fungal infection</td>\n",
              "      <td>Avoid sugary foods</td>\n",
              "    </tr>\n",
              "    <tr>\n",
              "      <th>1</th>\n",
              "      <td>1</td>\n",
              "      <td>1</td>\n",
              "      <td>Fungal infection</td>\n",
              "      <td>Consume probiotics</td>\n",
              "    </tr>\n",
              "    <tr>\n",
              "      <th>2</th>\n",
              "      <td>2</td>\n",
              "      <td>2</td>\n",
              "      <td>Fungal infection</td>\n",
              "      <td>Increase intake of garlic</td>\n",
              "    </tr>\n",
              "    <tr>\n",
              "      <th>3</th>\n",
              "      <td>3</td>\n",
              "      <td>3</td>\n",
              "      <td>Fungal infection</td>\n",
              "      <td>Include yogurt in diet</td>\n",
              "    </tr>\n",
              "    <tr>\n",
              "      <th>4</th>\n",
              "      <td>4</td>\n",
              "      <td>4</td>\n",
              "      <td>Fungal infection</td>\n",
              "      <td>Limit processed foods</td>\n",
              "    </tr>\n",
              "  </tbody>\n",
              "</table>\n",
              "</div>"
            ],
            "text/plain": [
              "   Unnamed: 0.1  Unnamed: 0           disease                    workout\n",
              "0             0           0  Fungal infection         Avoid sugary foods\n",
              "1             1           1  Fungal infection         Consume probiotics\n",
              "2             2           2  Fungal infection  Increase intake of garlic\n",
              "3             3           3  Fungal infection     Include yogurt in diet\n",
              "4             4           4  Fungal infection      Limit processed foods"
            ]
          },
          "execution_count": 35,
          "metadata": {},
          "output_type": "execute_result"
        }
      ],
      "source": [
        "Workoutdataset.head()"
      ]
    },
    {
      "cell_type": "code",
      "execution_count": 36,
      "metadata": {
        "id": "068Z2Vp4oYFV"
      },
      "outputs": [],
      "source": [
        "def helper(disease):\n",
        "  descr=discriptiondataset[discriptiondataset[\"Disease\"]==disease][\"Description\"]\n",
        "  desc=\" \".join([w for w in descr])\n",
        "\n",
        "  pre=precautiondataset[precautiondataset[\"Disease\"]==disease][[\"Precaution_1\",\"Precaution_2\",\"Precaution_3\",\"Precaution_4\"]]\n",
        "  pre=([col for col in pre.values])\n",
        "\n",
        "  med=medicationdataset[medicationdataset[\"Disease\"]==disease][\"Medication\"]\n",
        "  med=([med for med in med.values])\n",
        "\n",
        "  Diet=dietsdataset[dietsdataset[\"Disease\"]==disease][\"Diet\"]\n",
        "  Diet=([diet for diet in Diet.values])\n",
        "\n",
        "  workout=Workoutdataset[Workoutdataset[\"disease\"]==disease][\"workout\"]\n",
        "\n",
        "\n",
        "  return desc,pre,med,Diet,workout\n",
        "\n"
      ]
    },
    {
      "cell_type": "code",
      "execution_count": 37,
      "metadata": {
        "id": "ZwEzK_yqdeYp"
      },
      "outputs": [],
      "source": [
        "symptoms_dict = {'itching': 0, 'skin_rash': 1, 'nodal_skin_eruptions': 2, 'continuous_sneezing': 3, 'shivering': 4, 'chills': 5, 'joint_pain': 6, 'stomach_pain': 7, 'acidity': 8, 'ulcers_on_tongue': 9, 'muscle_wasting': 10, 'vomiting': 11, 'burning_micturition': 12, 'spotting_ urination': 13, 'fatigue': 14, 'weight_gain': 15, 'anxiety': 16, 'cold_hands_and_feets': 17, 'mood_swings': 18, 'weight_loss': 19, 'restlessness': 20, 'lethargy': 21, 'patches_in_throat': 22, 'irregular_sugar_level': 23, 'cough': 24, 'high_fever': 25, 'sunken_eyes': 26, 'breathlessness': 27, 'sweating': 28, 'dehydration': 29, 'indigestion': 30, 'headache': 31, 'yellowish_skin': 32, 'dark_urine': 33, 'nausea': 34, 'loss_of_appetite': 35, 'pain_behind_the_eyes': 36, 'back_pain': 37, 'constipation': 38, 'abdominal_pain': 39, 'diarrhoea': 40, 'mild_fever': 41, 'yellow_urine': 42, 'yellowing_of_eyes': 43, 'acute_liver_failure': 44, 'fluid_overload': 45, 'swelling_of_stomach': 46, 'swelled_lymph_nodes': 47, 'malaise': 48, 'blurred_and_distorted_vision': 49, 'phlegm': 50, 'throat_irritation': 51, 'redness_of_eyes': 52, 'sinus_pressure': 53, 'runny_nose': 54, 'congestion': 55, 'chest_pain': 56, 'weakness_in_limbs': 57, 'fast_heart_rate': 58, 'pain_during_bowel_movements': 59, 'pain_in_anal_region': 60, 'bloody_stool': 61, 'irritation_in_anus': 62, 'neck_pain': 63, 'dizziness': 64, 'cramps': 65, 'bruising': 66, 'obesity': 67, 'swollen_legs': 68, 'swollen_blood_vessels': 69, 'puffy_face_and_eyes': 70, 'enlarged_thyroid': 71, 'brittle_nails': 72, 'swollen_extremeties': 73, 'excessive_hunger': 74, 'extra_marital_contacts': 75, 'drying_and_tingling_lips': 76, 'slurred_speech': 77, 'knee_pain': 78, 'hip_joint_pain': 79, 'muscle_weakness': 80, 'stiff_neck': 81, 'swelling_joints': 82, 'movement_stiffness': 83, 'spinning_movements': 84, 'loss_of_balance': 85, 'unsteadiness': 86, 'weakness_of_one_body_side': 87, 'loss_of_smell': 88, 'bladder_discomfort': 89, 'foul_smell_of urine': 90, 'continuous_feel_of_urine': 91, 'passage_of_gases': 92, 'internal_itching': 93, 'toxic_look_(typhos)': 94, 'depression': 95, 'irritability': 96, 'muscle_pain': 97, 'altered_sensorium': 98, 'red_spots_over_body': 99, 'belly_pain': 100, 'abnormal_menstruation': 101, 'dischromic _patches': 102, 'watering_from_eyes': 103, 'increased_appetite': 104, 'polyuria': 105, 'family_history': 106, 'mucoid_sputum': 107, 'rusty_sputum': 108, 'lack_of_concentration': 109, 'visual_disturbances': 110, 'receiving_blood_transfusion': 111, 'receiving_unsterile_injections': 112, 'coma': 113, 'stomach_bleeding': 114, 'distention_of_abdomen': 115, 'history_of_alcohol_consumption': 116, 'fluid_overload.1': 117, 'blood_in_sputum': 118, 'prominent_veins_on_calf': 119, 'palpitations': 120, 'painful_walking': 121, 'pus_filled_pimples': 122, 'blackheads': 123, 'scurring': 124, 'skin_peeling': 125, 'silver_like_dusting': 126, 'small_dents_in_nails': 127, 'inflammatory_nails': 128, 'blister': 129, 'red_sore_around_nose': 130, 'yellow_crust_ooze': 131}\n",
        "diseases_list = {15: 'Fungal infection', 4: 'Allergy', 16: 'GERD', 9: 'Chronic cholestasis', 14: 'Drug Reaction', 33: 'Peptic ulcer diseae', 1: 'AIDS', 12: 'Diabetes ', 17: 'Gastroenteritis', 6: 'Bronchial Asthma', 23: 'Hypertension ', 30: 'Migraine', 7: 'Cervical spondylosis', 32: 'Paralysis (brain hemorrhage)', 28: 'Jaundice', 29: 'Malaria', 8: 'Chicken pox', 11: 'Dengue', 37: 'Typhoid', 40: 'hepatitis A', 19: 'Hepatitis B', 20: 'Hepatitis C', 21: 'Hepatitis D', 22: 'Hepatitis E', 3: 'Alcoholic hepatitis', 36: 'Tuberculosis', 10: 'Common Cold', 34: 'Pneumonia', 13: 'Dimorphic hemmorhoids(piles)', 18: 'Heart attack', 39: 'Varicose veins', 26: 'Hypothyroidism', 24: 'Hyperthyroidism', 25: 'Hypoglycemia', 31: 'Osteoarthristis', 5: 'Arthritis', 0: '(vertigo) Paroymsal  Positional Vertigo', 2: 'Acne', 38: 'Urinary tract infection', 35: 'Psoriasis', 27: 'Impetigo'}\n"
      ]
    },
    {
      "cell_type": "code",
      "execution_count": null,
      "metadata": {
        "colab": {
          "base_uri": "https://localhost:8080/"
        },
        "id": "hvy3ZX94cCOE",
        "outputId": "21f0a3d8-ede1-4875-e410-22cf52c619b9"
      },
      "outputs": [],
      "source": [
        "\n",
        "def get_predicted(patient_symptoms):\n",
        "    input_vector = np.zeros(len(symptoms_dict))\n",
        "    valid = False\n",
        "    for symptom in patient_symptoms:\n",
        "        if symptom in symptoms_dict:\n",
        "            input_vector[symptoms_dict[symptom]] = 1\n",
        "            valid = True\n",
        "        else:\n",
        "            print(f\"Warning: Symptom '{symptom}' not recognized.\")\n",
        "\n",
        "    if not valid:\n",
        "        print(\"No valid symptoms entered. Cannot predict.\")\n",
        "        return None\n",
        "\n",
        "    prediction = model.predict([input_vector])[0]\n",
        "    return diseases_list[prediction]\n",
        "\n",
        "# 🔽 Get user input\n",
        "sympthons = input(\"Enter your symptoms (comma-separated): \")\n",
        "user_symptoms = [s.strip().lower() for s in sympthons.split(\",\")]\n",
        "\n",
        "# 🔍 Predict\n",
        "predicted_disease = get_predicted(user_symptoms)\n",
        "if predicted_disease:\n",
        "    print(\"Predicted Disease:\", predicted_disease)\n"
      ]
    },
    {
      "cell_type": "code",
      "execution_count": null,
      "metadata": {
        "id": "NhZTIoxdgDM0"
      },
      "outputs": [],
      "source": [
        "desc,pre,med,Diet,workout =helper(predicted_disease)"
      ]
    },
    {
      "cell_type": "code",
      "execution_count": null,
      "metadata": {
        "colab": {
          "base_uri": "https://localhost:8080/"
        },
        "id": "gJDTGo1JgOzW",
        "outputId": "5ac101d5-1eb2-4f65-f072-3feaa6fce972"
      },
      "outputs": [
        {
          "name": "stdout",
          "output_type": "stream",
          "text": [
            "Enter your symptoms (comma-separated): cough, chest_pain, phlegm\n",
            "\n",
            "✅ Predicted Disease: Heart attack\n",
            "\n",
            "📝 Description:\n",
            "Heart attack is a sudden and severe reduction in blood flow to the heart muscle.\n",
            "\n",
            "💊 Precautions:\n",
            "- call ambulance\n",
            "- chew or swallow asprin\n",
            "- keep calm\n",
            "- nan\n",
            "\n",
            "🧪 Medications:\n",
            "- ['Compression stockings', 'Exercise', 'Elevating the legs', 'Sclerotherapy', 'Laser treatments']\n",
            "\n",
            "🥗 Recommended Diet:\n",
            "['Heart-Healthy Diet', 'Low-sodium foods', 'Fruits and vegetables', 'Whole grains', 'Lean proteins']\n",
            "\n",
            "🏃 Workout Suggestions:\n",
            "- Follow a heart-healthy diet\n",
            "- Limit sodium intake\n",
            "- Include fiber-rich foods\n",
            "- Consume healthy fats\n",
            "- Include lean proteins\n",
            "- Limit sugary foods and beverages\n",
            "- Stay hydrated\n",
            "- Consult a healthcare professional\n",
            "- Follow medical recommendations\n",
            "- Engage in regular exercise\n"
          ]
        },
        {
          "name": "stderr",
          "output_type": "stream",
          "text": [
            "/usr/local/lib/python3.11/dist-packages/sklearn/utils/validation.py:2739: UserWarning: X does not have valid feature names, but SVC was fitted with feature names\n",
            "  warnings.warn(\n"
          ]
        }
      ],
      "source": [
        "\n",
        "\n",
        "# --- Prediction Function ---\n",
        "def get_predicted(patient_symptoms):\n",
        "    input_vector = np.zeros(len(symptoms_dict))\n",
        "    valid = False\n",
        "    for symptom in patient_symptoms:\n",
        "        if symptom in symptoms_dict:\n",
        "            input_vector[symptoms_dict[symptom]] = 1\n",
        "            valid = True\n",
        "        else:\n",
        "            print(f\"⚠️ Warning: Symptom '{symptom}' not recognized.\")\n",
        "\n",
        "    if not valid:\n",
        "        print(\"❌ No valid symptoms entered. Cannot predict.\")\n",
        "        return None\n",
        "\n",
        "    prediction = model.predict([input_vector])[0]\n",
        "    return diseases_list[prediction]\n",
        "\n",
        "# --- Helper Function ---\n",
        "def helper(disease):\n",
        "    descr = discriptiondataset[discriptiondataset[\"Disease\"] == disease][\"Description\"]\n",
        "    desc = \" \".join([w for w in descr])\n",
        "\n",
        "    pre = precautiondataset[precautiondataset[\"Disease\"] == disease][[\"Precaution_1\", \"Precaution_2\", \"Precaution_3\", \"Precaution_4\"]]\n",
        "    pre = [item for sublist in pre.values.tolist() for item in sublist]\n",
        "\n",
        "    med = medicationdataset[medicationdataset[\"Disease\"] == disease][\"Medication\"].tolist()\n",
        "    diet = dietsdataset[dietsdataset[\"Disease\"] == disease][\"Diet\"].tolist()\n",
        "    workout = Workoutdataset[Workoutdataset[\"disease\"] == disease][\"workout\"].tolist()\n",
        "\n",
        "    return desc, pre, med, diet, workout\n",
        "\n",
        "# --- User Input ---\n",
        "symptoms_input = input(\"Enter your symptoms (comma-separated): \")\n",
        "user_symptoms = [s.strip().lower() for s in symptoms_input.split(\",\")]\n",
        "\n",
        "# --- Predict and Display ---\n",
        "predicted_disease = get_predicted(user_symptoms)\n",
        "\n",
        "if predicted_disease:\n",
        "    print(\"\\n✅ Predicted Disease:\", predicted_disease)\n",
        "\n",
        "    desc, pre, med, diet, workout = helper(predicted_disease)\n",
        "\n",
        "    print(\"\\n📝 Description:\")\n",
        "    print(desc)\n",
        "\n",
        "    print(\"\\n💊 Precautions:\")\n",
        "    for p in pre:\n",
        "        print(f\"- {p}\")\n",
        "\n",
        "    print(\"\\n🧪 Medications:\")\n",
        "    for m in med:\n",
        "        print(f\"- {m}\")\n",
        "\n",
        "    print(\"\\n🥗 Recommended Diet:\")\n",
        "    for d in diet:\n",
        "        print(f\"{d}\")\n",
        "\n",
        "    print(\"\\n🏃 Workout Suggestions:\")\n",
        "    for w in workout:\n",
        "        print(f\"- {w}\")\n"
      ]
    },
    {
      "cell_type": "code",
      "execution_count": null,
      "metadata": {
        "id": "ieZj9Eamgyty"
      },
      "outputs": [],
      "source": []
    },
    {
      "cell_type": "code",
      "execution_count": null,
      "metadata": {
        "id": "ZmoUcywqnwGa"
      },
      "outputs": [],
      "source": []
    },
    {
      "cell_type": "code",
      "execution_count": null,
      "metadata": {
        "id": "0KR1WixboE_3"
      },
      "outputs": [],
      "source": []
    }
  ],
  "metadata": {
    "colab": {
      "provenance": []
    },
    "kernelspec": {
      "display_name": "venv",
      "language": "python",
      "name": "python3"
    },
    "language_info": {
      "codemirror_mode": {
        "name": "ipython",
        "version": 3
      },
      "file_extension": ".py",
      "mimetype": "text/x-python",
      "name": "python",
      "nbconvert_exporter": "python",
      "pygments_lexer": "ipython3",
      "version": "3.12.6"
    }
  },
  "nbformat": 4,
  "nbformat_minor": 0
}
